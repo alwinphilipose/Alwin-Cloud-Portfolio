# Databricks notebook for transforming sales data

from pyspark.sql.functions import col

# Load data
df = spark.read.csv("abfss://raw@salesadls.dfs.core.windows.net/sales/sample_sales_data.csv", header=True, inferSchema=True)

# Clean and transform
df_clean = df.withColumn("Revenue", col("Quantity") * col("Unit_Price"))

# Save to gold layer
df_clean.write.mode("overwrite").parquet("abfss://gold@salesadls.dfs.core.windows.net/sales/cleaned_sales_data")
